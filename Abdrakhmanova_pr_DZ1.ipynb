{
  "nbformat": 4,
  "nbformat_minor": 0,
  "metadata": {
    "kernelspec": {
      "display_name": "Python 3",
      "language": "python",
      "name": "python3"
    },
    "language_info": {
      "codemirror_mode": {
        "name": "ipython",
        "version": 3
      },
      "file_extension": ".py",
      "mimetype": "text/x-python",
      "name": "python",
      "nbconvert_exporter": "python",
      "pygments_lexer": "ipython3",
      "version": "3.7.7"
    },
    "colab": {
      "name": "Abdrakhmanova_DZ1.ipynb",
      "provenance": [],
      "collapsed_sections": []
    }
  },
  "cells": [
    {
      "cell_type": "markdown",
      "metadata": {
        "id": "MkT_eNZo3MYl",
        "colab_type": "text"
      },
      "source": [
        "# Практическое задание №1"
      ]
    },
    {
      "cell_type": "markdown",
      "metadata": {
        "id": "jhHEn_tA3MYr",
        "colab_type": "text"
      },
      "source": [
        "ФИО: Абдрахманова Нелли Тагировна\n",
        "\n",
        "вуз: МГУ \n",
        "\n",
        "факультет: механико-математический\n",
        "\n",
        "курс: 4\n",
        "\n",
        "кафедра (если есть): ТДС\n",
        "\n",
        "научный руководитель (если есть): Асташов Е.А."
      ]
    },
    {
      "cell_type": "markdown",
      "metadata": {
        "id": "AJUyLk8r3MYu",
        "colab_type": "text"
      },
      "source": [
        "### Задача: Оценка качества вина по его характеристикам\n",
        "### Метрика качества: Accuracy"
      ]
    },
    {
      "cell_type": "markdown",
      "metadata": {
        "id": "yjQkjIJD3MYy",
        "colab_type": "text"
      },
      "source": [
        "#### 1. Считывание данных (2 балла)\n"
      ]
    },
    {
      "cell_type": "code",
      "metadata": {
        "id": "hpeax17D3MY1",
        "colab_type": "code",
        "outputId": "be85725d-96f1-420d-f988-a886197326a9",
        "colab": {
          "base_uri": "https://localhost:8080/",
          "height": 282
        }
      },
      "source": [
        "import csv\n",
        "import numpy as np\n",
        "import pandas as pd\n",
        "import seaborn as sns\n",
        "import sklearn\n",
        "train = pd.read_csv('train.csv')\n",
        "test = pd.read_csv('test.csv')\n",
        "trainX = train.iloc[:, 0:11]\n",
        "trainY = train['quality']\n",
        "testX = test.iloc[:, 0:11]\n",
        "testY = test['quality']\n",
        "print(trainX.shape, trainY.shape, testX.shape, testY.shape)\n",
        "test['quality'].unique()\n",
        "sns.distplot(list(test['quality']));"
      ],
      "execution_count": 173,
      "outputs": [
        {
          "output_type": "stream",
          "text": [
            "(1279, 11) (1279,) (320, 11) (320,)\n"
          ],
          "name": "stdout"
        },
        {
          "output_type": "display_data",
          "data": {
            "image/png": "[encoded data removed]",
            "text/plain": [
              "<Figure size 432x288 with 1 Axes>"
            ]
          },
          "metadata": {
            "tags": []
          }
        }
      ]
    },
    {
      "cell_type": "markdown",
      "metadata": {
        "id": "QWUYEcJR3MZN",
        "colab_type": "text"
      },
      "source": [
        "На данном шаге у вас должны быть готовы данные для обучения первой модели. "
      ]
    },
    {
      "cell_type": "code",
      "metadata": {
        "id": "UnPC-ncp3MZP",
        "colab_type": "code",
        "outputId": "8968f617-8808-4c6c-9071-5df3d2b324d3",
        "colab": {
          "base_uri": "https://localhost:8080/",
          "height": 69
        }
      },
      "source": [
        "from sklearn.neighbors import KNeighborsClassifier\n",
        "from sklearn.metrics import accuracy_score\n",
        "\n",
        "baseline = KNeighborsClassifier(n_neighbors=1)\n",
        "baseline.fit(trainX, trainY)\n",
        "baseline_prediction = baseline.predict(testX)\n",
        "\n",
        "a_random = np.random.randint(4, 9, 320)\n",
        "a_const = np.full((320, 1), 5)\n",
        "\n",
        "print('accuracy = %.2f' % accuracy_score(testY, baseline_prediction))\n",
        "print('случайный выбор ответа: accuracy = %.2f' % accuracy_score(testY, a_random))\n",
        "print('константная модель: accuracy = %.2f' % accuracy_score(testY, a_const))"
      ],
      "execution_count": 174,
      "outputs": [
        {
          "output_type": "stream",
          "text": [
            "accuracy = 0.53\n",
            "случайный выбор ответа: accuracy = 0.23\n",
            "константная модель: accuracy = 0.41\n"
          ],
          "name": "stdout"
        }
      ]
    },
    {
      "cell_type": "markdown",
      "metadata": {
        "id": "2HzOrXly3MZg",
        "colab_type": "text"
      },
      "source": [
        "Можно ли считать этот результат хорошим?\n",
        "Какую точность можно получить используя совсем простые модели:\n",
        "- случайный выбор ответа\n",
        "- константная модель\n",
        "?"
      ]
    },
    {
      "cell_type": "code",
      "metadata": {
        "id": "1prHWXHk3MZk",
        "colab_type": "code",
        "colab": {}
      },
      "source": [
        "Результат \"accuracy = 0.53\" нельзя считать хорошим, по сути это тоже самое, что подкидывать монетку. \n",
        "\n",
        "Посмотрев на данные, заметим, что оценка находится в диапазоне от 4 до 8, поэтому в случайном выборе ответа выбираем тот же диапазон,\n",
        "таким образом, получим более хорошее значение точности из возможных (Например, 0.23).\n",
        "\n",
        "Аналогично увидим, что чаще всего в тестовых данных встречается оценка 5, поэтому в качестве константной модели возьмем a(x) = 5.\n",
        "Получим accuracy = 0.41, и это будет лучшим из возможных результатов."
      ],
      "execution_count": 0,
      "outputs": []
    },
    {
      "cell_type": "markdown",
      "metadata": {
        "id": "sQ4RcUPQ3MZz",
        "colab_type": "text"
      },
      "source": [
        "#### 2. Препроцессинг данных (3 балла)"
      ]
    },
    {
      "cell_type": "markdown",
      "metadata": {
        "id": "zLna6wDf3MZ2",
        "colab_type": "text"
      },
      "source": [
        "Одна из причин, почему метод ближайшего соседа не даёт хороших результатов, это наличие признаков разного масштаба. \n",
        "Поэтому признаки необходимо приводить к одному и тому же диапозону значений.\n",
        "Изучите раздел документации\n",
        "https://scikit-learn.org/stable/modules/preprocessing.html#preprocessing\n",
        "и попробуйте применить к данным все методы из раздела 4.3.1"
      ]
    },
    {
      "cell_type": "code",
      "metadata": {
        "id": "7-o9Ru5AseXh",
        "colab_type": "code",
        "outputId": "2dd5d098-b394-4ded-d397-af2061871a41",
        "colab": {
          "base_uri": "https://localhost:8080/",
          "height": 265
        }
      },
      "source": [
        "from sklearn import preprocessing\n",
        "from sklearn.preprocessing import scale\n",
        "scaled_trainX = scale(trainX)\n",
        "scaled_testX = scale(testX)\n",
        "sns.distplot(list(scaled_trainX));"
      ],
      "execution_count": 175,
      "outputs": [
        {
          "output_type": "display_data",
          "data": {
            "image/png": "[encoded data removed]",
            "text/plain": [
              "<Figure size 432x288 with 1 Axes>"
            ]
          },
          "metadata": {
            "tags": []
          }
        }
      ]
    },
    {
      "cell_type": "code",
      "metadata": {
        "id": "VPbGN33hzVD-",
        "colab_type": "code",
        "outputId": "2730cda1-f201-4ab6-f205-ed3afbd9b2af",
        "colab": {
          "base_uri": "https://localhost:8080/",
          "height": 282
        }
      },
      "source": [
        "from sklearn import preprocessing\n",
        "from sklearn.preprocessing import StandardScaler\n",
        "scaler = StandardScaler().fit(trainX)\n",
        "scaled_trainX = scaler.transform(trainX)\n",
        "scaled_testX = scaler.transform(testX)\n",
        "sns.distplot(list(scaled_trainX));\n",
        "\n",
        "baseline = KNeighborsClassifier(n_neighbors=1)\n",
        "baseline.fit(scaled_trainX, trainY)\n",
        "baseline_prediction = baseline.predict(scaled_testX)\n",
        "print('accuracy = %.2f' % accuracy_score(testY, baseline_prediction))"
      ],
      "execution_count": 176,
      "outputs": [
        {
          "output_type": "stream",
          "text": [
            "accuracy = 0.64\n"
          ],
          "name": "stdout"
        },
        {
          "output_type": "display_data",
          "data": {
            "image/png": "[encoded data removed]",
            "text/plain": [
              "<Figure size 432x288 with 1 Axes>"
            ]
          },
          "metadata": {
            "tags": []
          }
        }
      ]
    },
    {
      "cell_type": "code",
      "metadata": {
        "id": "xqmVFUQjyORW",
        "colab_type": "code",
        "outputId": "945a1bde-3329-4240-f0be-6746e513e21b",
        "colab": {
          "base_uri": "https://localhost:8080/",
          "height": 265
        }
      },
      "source": [
        "from sklearn import preprocessing\n",
        "from sklearn.preprocessing import MinMaxScaler  \n",
        "scaler = MinMaxScaler()\n",
        "scaled_trainX = scaler.fit_transform(trainX)\n",
        "scaled_testX = scaler.transform(testX)\n",
        "sns.distplot(list(scaled_trainX));"
      ],
      "execution_count": 177,
      "outputs": [
        {
          "output_type": "display_data",
          "data": {
            "image/png": "[encoded data removed]",
            "text/plain": [
              "<Figure size 432x288 with 1 Axes>"
            ]
          },
          "metadata": {
            "tags": []
          }
        }
      ]
    },
    {
      "cell_type": "code",
      "metadata": {
        "id": "ShwsRlnnsfwI",
        "colab_type": "code",
        "outputId": "d6e1371d-7bb0-4a46-be56-3facff9a0daa",
        "colab": {
          "base_uri": "https://localhost:8080/",
          "height": 265
        }
      },
      "source": [
        "from sklearn import preprocessing\n",
        "from sklearn.preprocessing import MaxAbsScaler  \n",
        "scaler = MaxAbsScaler()\n",
        "scaled_trainX = scaler.fit_transform(trainX)\n",
        "scaled_testX = scaler.transform(testX)\n",
        "sns.distplot(list(scaled_trainX));"
      ],
      "execution_count": 178,
      "outputs": [
        {
          "output_type": "display_data",
          "data": {
            "image/png": "[encoded data removed]",
            "text/plain": [
              "<Figure size 432x288 with 1 Axes>"
            ]
          },
          "metadata": {
            "tags": []
          }
        }
      ]
    },
    {
      "cell_type": "code",
      "metadata": {
        "id": "ATxkMFVYsf-K",
        "colab_type": "code",
        "outputId": "173ae7c9-9098-48a7-e4c9-c7b792189e64",
        "colab": {
          "base_uri": "https://localhost:8080/",
          "height": 265
        }
      },
      "source": [
        "from sklearn import preprocessing\n",
        "from sklearn.preprocessing import RobustScaler\n",
        "scaler = RobustScaler()\n",
        "scaled_trainX = scaler.fit_transform(trainX)\n",
        "scaled_testX = scaler.transform(testX)\n",
        "sns.distplot(list(scaled_trainX));"
      ],
      "execution_count": 179,
      "outputs": [
        {
          "output_type": "display_data",
          "data": {
            "image/png": "[encoded data removed]",
            "text/plain": [
              "<Figure size 432x288 with 1 Axes>"
            ]
          },
          "metadata": {
            "tags": []
          }
        }
      ]
    },
    {
      "cell_type": "markdown",
      "metadata": {
        "colab_type": "text",
        "id": "5bS9CQ4Z8aC3"
      },
      "source": [
        "#### 3. Подбор параметров для метода ближайшего соседа (5 баллов)"
      ]
    },
    {
      "cell_type": "markdown",
      "metadata": {
        "id": "gAkJUnuA3Max",
        "colab_type": "text"
      },
      "source": [
        "1.Подберите лучшие параметры для метода ближайших соседей использую 5-fold кроссвалидацию.\n",
        "Изучите главы документации:\n",
        "https://scikit-learn.org/stable/modules/cross_validation.html#cross-validation\n",
        "https://scikit-learn.org/stable/modules/grid_search.html#grid-search\n"
      ]
    },
    {
      "cell_type": "code",
      "metadata": {
        "id": "OvT8Vdjw3Maz",
        "colab_type": "code",
        "outputId": "b6e88e87-7e01-4bf8-fdb4-48e31cb314bf",
        "colab": {
          "base_uri": "https://localhost:8080/",
          "height": 34
        }
      },
      "source": [
        "from sklearn import preprocessing\n",
        "from sklearn.preprocessing import RobustScaler\n",
        "scaler = RobustScaler()\n",
        "scaled_trainX = scaler.fit_transform(trainX)\n",
        "scaled_testX = scaler.transform(testX)\n",
        "\n",
        "\n",
        "from sklearn.neighbors import KNeighborsClassifier\n",
        "from sklearn.metrics import accuracy_score\n",
        "from sklearn.model_selection import GridSearchCV\n",
        "knn = KNeighborsClassifier()\n",
        "grid = GridSearchCV(knn, param_grid= {'n_neighbors': range(1, 20), 'weights': ('uniform', 'distance'), \n",
        "                                      'algorithm': ('auto', 'ball_tree', 'kd_tree', 'brute')}, cv = 5)\n",
        "grid.fit(scaled_trainX, trainY)\n",
        "best_n_neighbors = grid.best_estimator_.n_neighbors\n",
        "best_weights = grid.best_estimator_.weights\n",
        "best_algorithm = grid.best_estimator_.algorithm\n",
        "print(best_n_neighbors, best_weights, best_algorithm)"
      ],
      "execution_count": 180,
      "outputs": [
        {
          "output_type": "stream",
          "text": [
            "19 distance auto\n"
          ],
          "name": "stdout"
        }
      ]
    },
    {
      "cell_type": "markdown",
      "metadata": {
        "id": "lFRdpB9C3Ma_",
        "colab_type": "text"
      },
      "source": [
        "После подбора оптимальных параметров обучите модель с этими параметрами на всем обучающей выборке и посмотрите качество на тесте."
      ]
    },
    {
      "cell_type": "code",
      "metadata": {
        "id": "Mn8CpuhY3MbC",
        "colab_type": "code",
        "outputId": "dc8ccf88-4912-430f-d073-6367bdcdd88f",
        "colab": {
          "base_uri": "https://localhost:8080/",
          "height": 34
        }
      },
      "source": [
        "knn = KNeighborsClassifier(n_neighbors=best_n_neighbors, weights=best_weights, algorithm=best_algorithm)\n",
        "knn.fit(scaled_trainX, trainY)\n",
        "prediction = knn.predict(scaled_testX)\n",
        "print('accuracy = %.2f' % accuracy_score(testY, prediction))"
      ],
      "execution_count": 181,
      "outputs": [
        {
          "output_type": "stream",
          "text": [
            "accuracy = 0.67\n"
          ],
          "name": "stdout"
        }
      ]
    },
    {
      "cell_type": "markdown",
      "metadata": {
        "id": "9cya995H3MbL",
        "colab_type": "text"
      },
      "source": [
        "#### 4. Линейная регрессия (4 балла)"
      ]
    },
    {
      "cell_type": "markdown",
      "metadata": {
        "id": "uP4ezfye3MbN",
        "colab_type": "text"
      },
      "source": [
        "Напишите код функций для нахождения весов линейной регрессии (вспомните формулы из лекции 3), а также для применения этих весов (предсказание).\n",
        "\n",
        "Если эти функции будут правильно реализованы, то в дальнейшем можно будет применять класс MyLinearRegression со стандартным scikit-learn интерфейсом, в котором нас интересуют два метода: fit и predict."
      ]
    },
    {
      "cell_type": "code",
      "metadata": {
        "id": "bQXQS6HG3MbP",
        "colab_type": "code",
        "colab": {}
      },
      "source": [
        "import numpy as np\n",
        "def solve_linear_regression(X, y):\n",
        "    # ваш код\n",
        "    # return weights, bias\n",
        "    n, m = scaled_trainX.shape\n",
        "    X0 = np.ones((n,1))\n",
        "    Xnew = np.hstack((X0, scaled_trainX))\n",
        "    a = np.dot(Xnew.T, Xnew)\n",
        "    b = np.dot(Xnew.T, trainY)\n",
        "    matrix = np.linalg.solve(a, b)\n",
        "    bias = matrix[0]\n",
        "    weights = matrix[1:12]\n",
        "    return weights, bias\n",
        "\n",
        "def make_prediction(weights, bias, testX):\n",
        "    n, m = scaled_testX.shape\n",
        "    X0 = np.ones((n,1))\n",
        "    testXnew = np.hstack((X0, scaled_testX))\n",
        "    matrix = np.hstack((bias, weights))\n",
        "    return np.dot(testXnew, matrix)\n",
        "\n",
        "class MyLinearRegression():\n",
        "    def __init__(self,):\n",
        "        self.name = 'LinearRegression'\n",
        "    \n",
        "    def fit(self, X, Y):\n",
        "        self.weights, self.bias = solve_linear_regression(X, Y)\n",
        "        print('Coefficients: \\n', self.weights)\n",
        "        return self\n",
        "    \n",
        "    def predict(self, X):\n",
        "        return make_prediction(self.weights, self.bias, X)  "
      ],
      "execution_count": 0,
      "outputs": []
    },
    {
      "cell_type": "markdown",
      "metadata": {
        "id": "QdnOPnYy3MbY",
        "colab_type": "text"
      },
      "source": [
        "Протестируйте ваш класс на предложенном датасете"
      ]
    },
    {
      "cell_type": "code",
      "metadata": {
        "id": "FXx3hVc53Mba",
        "colab_type": "code",
        "outputId": "8c327ed7-1f8f-4370-f72e-bdcc4d015928",
        "colab": {
          "base_uri": "https://localhost:8080/",
          "height": 139
        }
      },
      "source": [
        "from sklearn.metrics import r2_score, mean_squared_error\n",
        "baseline = MyLinearRegression()\n",
        "baseline.fit(scaled_trainX, trainY)\n",
        "\n",
        "baseline_prediction = baseline.predict(scaled_testX)\n",
        "print('Predict (10): \\n', baseline_prediction[:10])\n",
        "\n",
        "print('acc = %.5f' % accuracy_score(testY, np.round(baseline_prediction)), \n",
        "      'mse = %.5f' % mean_squared_error(testY, baseline_prediction), 'r2 = %.5f' % r2_score(testY, baseline_prediction))"
      ],
      "execution_count": 183,
      "outputs": [
        {
          "output_type": "stream",
          "text": [
            "Coefficients: \n",
            " [ 0.0182998  -0.26937587 -0.02808996  0.00956857 -0.03926156  0.03027898\n",
            " -0.13211406 -0.03936013 -0.06841185  0.15417037  0.39909076]\n",
            "Predict (10): \n",
            " [6.29251114 4.93709263 4.78745839 6.54741593 5.55726747 5.61922879\n",
            " 6.27141182 5.6951969  5.40021733 5.70653309]\n",
            "acc = 0.50938 mse = 0.43589 r2 = 0.34360\n"
          ],
          "name": "stdout"
        }
      ]
    },
    {
      "cell_type": "markdown",
      "metadata": {
        "id": "AhwyAgdw3Mbl",
        "colab_type": "text"
      },
      "source": [
        "Сравните результаты вашего класса и аналогичного из scikit-learn\n",
        "sklearn.linear_model.LinearRegression"
      ]
    },
    {
      "cell_type": "code",
      "metadata": {
        "id": "NUUG8Tra3Mbo",
        "colab_type": "code",
        "outputId": "1be6b6d7-7025-4874-fa52-4aaa91cabf6c",
        "colab": {
          "base_uri": "https://localhost:8080/",
          "height": 139
        }
      },
      "source": [
        "from sklearn import linear_model, metrics \n",
        "reg = linear_model.LinearRegression() \n",
        "reg.fit(scaled_trainX, trainY) \n",
        "print('Coefficients: \\n', reg.coef_) \n",
        "\n",
        "reg_prediction = reg.predict(scaled_testX)\n",
        "print('Predict (10): \\n', reg_prediction[:10])\n",
        "\n",
        "print('acc = %.5f' % accuracy_score(testY, np.round(reg_prediction)), \n",
        "      'mse = %.5f' %mean_squared_error(testY, reg_prediction), 'r2 = %.5f' % r2_score(testY, reg_prediction))\n"
      ],
      "execution_count": 185,
      "outputs": [
        {
          "output_type": "stream",
          "text": [
            "Coefficients: \n",
            " [ 0.0182998  -0.26937587 -0.02808996  0.00956857 -0.03926156  0.03027898\n",
            " -0.13211406 -0.03936013 -0.06841185  0.15417037  0.39909076]\n",
            "Predict (10): \n",
            " [6.29251114 4.93709263 4.78745839 6.54741593 5.55726747 5.61922879\n",
            " 6.27141182 5.6951969  5.40021733 5.70653309]\n",
            "acc = 0.50938 mse = 0.43589 r2 = 0.34360\n"
          ],
          "name": "stdout"
        }
      ]
    },
    {
      "cell_type": "markdown",
      "metadata": {
        "id": "8DlcLp4aLYGA",
        "colab_type": "text"
      },
      "source": [
        "Результаты MyLinearRegression и LinearRegression совпадают (смотрим на коэффициенты регрессии и на предсказания)"
      ]
    },
    {
      "cell_type": "markdown",
      "metadata": {
        "id": "ETCKxBs93Mbw",
        "colab_type": "text"
      },
      "source": [
        "#### 5. Лучшая модель (3 балла )\n"
      ]
    },
    {
      "cell_type": "markdown",
      "metadata": {
        "id": "IUTPku7U3Mby",
        "colab_type": "text"
      },
      "source": [
        "Попробуйте улучшить результат на тестовом датасете, используя все пройденные  до 15 марта  (первые 4 лекции) алгоритмы машинного обучения и любые методы препроцессинга и постпроцессинга. Если параметры не дефолтные, то  подбр параметров должен осуществлять путём кросс-валидации без привлечения тестового датасета."
      ]
    },
    {
      "cell_type": "code",
      "metadata": {
        "colab_type": "code",
        "id": "bjWNd4PZg4y_",
        "colab": {
          "base_uri": "https://localhost:8080/",
          "height": 156
        },
        "outputId": "d913fa78-8973-45c1-c72b-2df173f41f49"
      },
      "source": [
        "quantile_transformer = preprocessing.QuantileTransformer(output_distribution='uniform', random_state=0)\n",
        "scaled_trainX = quantile_transformer.fit_transform(trainX)\n",
        "scaled_testX = quantile_transformer.transform(testX)\n",
        "\n",
        "from sklearn.linear_model import RidgeCV\n",
        "regR = RidgeCV(alphas=[1e-3, 1e-2, 1e-1, 1], cv = 5)\n",
        "regR.fit(scaled_trainX, trainY)\n",
        "predR = regR.predict(scaled_testX)\n",
        "print ('acc = %.2f' % accuracy_score(testY, np.round(predR)), \n",
        "       'mse = %.2f' % mean_squared_error(testY, predR), 'r2 = %.2f' % r2_score(testY, predR))"
      ],
      "execution_count": 187,
      "outputs": [
        {
          "output_type": "stream",
          "text": [
            "acc = 0.56 mse = 0.42 r2 = 0.36\n",
            "Coefficients: \n",
            " [ 0.28599238 -0.63727155 -0.19385541  0.12574143 -0.15710973  0.02064116\n",
            " -0.19756419 -0.3901157  -0.11997749  0.69549513  0.77995438]\n",
            "Predict (10): \n",
            " [6.2621419  5.01794744 4.76190146 6.32321694 5.60456466 5.62552176\n",
            " 6.46309892 5.77664192 5.34748443 5.7923469 ]\n",
            "acc = 0.55625 mse = 0.42399 r2 = 0.36152\n"
          ],
          "name": "stdout"
        }
      ]
    },
    {
      "cell_type": "code",
      "metadata": {
        "id": "diGuPgDuCCjQ",
        "colab_type": "code",
        "colab": {}
      },
      "source": [
        "С помощью регрессии mse = 0.42, r2 = 0.36."
      ],
      "execution_count": 0,
      "outputs": []
    },
    {
      "cell_type": "code",
      "metadata": {
        "id": "IZuK9JnGB0qF",
        "colab_type": "code",
        "colab": {}
      },
      "source": [
        "Методом ближайшего соседа в пункте 3) acc = 0.67."
      ],
      "execution_count": 0,
      "outputs": []
    }
  ]
}